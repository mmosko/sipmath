{
 "cells": [
  {
   "cell_type": "code",
   "execution_count": 1,
   "metadata": {
    "ExecuteTime": {
     "end_time": "2023-08-17T19:39:49.801390Z",
     "start_time": "2023-08-17T19:39:48.822526Z"
    }
   },
   "outputs": [],
   "source": [
    "import matplotlib.pyplot as plt\n",
    "import numpy as np\n",
    "import pandas as pd\n",
    "import time\n",
    "\n",
    "import sipmath as sm\n",
    "import sipmath.pymetalog as pm"
   ]
  },
  {
   "cell_type": "markdown",
   "metadata": {},
   "source": [
    "Basic SIPmath Demo"
   ]
  },
  {
   "cell_type": "code",
   "execution_count": 2,
   "metadata": {
    "ExecuteTime": {
     "end_time": "2023-08-17T19:39:49.847329Z",
     "start_time": "2023-08-17T19:39:49.803387Z"
    }
   },
   "outputs": [
    {
     "data": {
      "text/plain": "       normal distribution  uniform distribution\ntrial                                           \n0                 0.709096              0.415980\n1                 0.331412              0.333861\n2                 1.745428              0.866285\n3                 0.868738              0.549324\n4                -0.035726              0.126055",
      "text/html": "<div>\n<style scoped>\n    .dataframe tbody tr th:only-of-type {\n        vertical-align: middle;\n    }\n\n    .dataframe tbody tr th {\n        vertical-align: top;\n    }\n\n    .dataframe thead th {\n        text-align: right;\n    }\n</style>\n<table border=\"1\" class=\"dataframe\">\n  <thead>\n    <tr style=\"text-align: right;\">\n      <th></th>\n      <th>normal distribution</th>\n      <th>uniform distribution</th>\n    </tr>\n    <tr>\n      <th>trial</th>\n      <th></th>\n      <th></th>\n    </tr>\n  </thead>\n  <tbody>\n    <tr>\n      <th>0</th>\n      <td>0.709096</td>\n      <td>0.415980</td>\n    </tr>\n    <tr>\n      <th>1</th>\n      <td>0.331412</td>\n      <td>0.333861</td>\n    </tr>\n    <tr>\n      <th>2</th>\n      <td>1.745428</td>\n      <td>0.866285</td>\n    </tr>\n    <tr>\n      <th>3</th>\n      <td>0.868738</td>\n      <td>0.549324</td>\n    </tr>\n    <tr>\n      <th>4</th>\n      <td>-0.035726</td>\n      <td>0.126055</td>\n    </tr>\n  </tbody>\n</table>\n</div>"
     },
     "execution_count": 2,
     "metadata": {},
     "output_type": "execute_result"
    }
   ],
   "source": [
    "model = sm.sipmodel(10000, name='test_slurp', origin='colin made me', about='this is a test for sam')\n",
    "\n",
    "input_1 = model.sipinput(distribution='normal', generator='hdr', name='normal distribution')\n",
    "input_2 = model.sipinput(distribution='uniform', generator='rand', name='uniform distribution')\n",
    "\n",
    "model.sample()\n",
    "\n",
    "model.to_df().iloc[:5]"
   ]
  },
  {
   "cell_type": "code",
   "execution_count": 3,
   "metadata": {
    "ExecuteTime": {
     "end_time": "2023-08-17T19:39:50.028009Z",
     "start_time": "2023-08-17T19:39:49.844838Z"
    }
   },
   "outputs": [
    {
     "data": {
      "text/plain": "<function matplotlib.pyplot.show(close=None, block=None)>"
     },
     "execution_count": 3,
     "metadata": {},
     "output_type": "execute_result"
    },
    {
     "data": {
      "text/plain": "<Figure size 640x480 with 1 Axes>",
      "image/png": "[encoded data removed]"
     },
     "metadata": {},
     "output_type": "display_data"
    }
   ],
   "source": [
    "plt.hist(input_1, 100)\n",
    "plt.show"
   ]
  },
  {
   "cell_type": "markdown",
   "metadata": {},
   "source": [
    "Arithmetic works!"
   ]
  },
  {
   "cell_type": "code",
   "execution_count": 4,
   "metadata": {
    "ExecuteTime": {
     "end_time": "2023-08-17T19:39:50.191128Z",
     "start_time": "2023-08-17T19:39:50.027794Z"
    }
   },
   "outputs": [
    {
     "data": {
      "text/plain": "<Figure size 640x480 with 1 Axes>",
      "image/png": "[encoded data removed]"
     },
     "metadata": {},
     "output_type": "display_data"
    }
   ],
   "source": [
    "input_3 = model.sipinput(distribution='uniform')\n",
    "model.sample()\n",
    "\n",
    "plt.hist(input_2+input_3, 100)\n",
    "plt.show()"
   ]
  },
  {
   "cell_type": "markdown",
   "metadata": {},
   "source": [
    "Lets time some sampling..."
   ]
  },
  {
   "cell_type": "code",
   "execution_count": 5,
   "metadata": {
    "ExecuteTime": {
     "end_time": "2023-08-17T19:39:50.286032Z",
     "start_time": "2023-08-17T19:39:50.190828Z"
    }
   },
   "outputs": [
    {
     "data": {
      "text/plain": "0.08965873718261719"
     },
     "execution_count": 5,
     "metadata": {},
     "output_type": "execute_result"
    }
   ],
   "source": [
    "model2 = sm.sipmodel(1000000)\n",
    "input_21 = model2.sipinput(distribution='exponential')\n",
    "input_22 = model2.sipinput(distribution='exponential')\n",
    "input_23 = model2.sipinput(distribution='exponential')\n",
    "\n",
    "start = time.time()\n",
    "model2.sample()\n",
    "end = time.time()\n",
    "(end - start)"
   ]
  },
  {
   "cell_type": "markdown",
   "metadata": {},
   "source": [
    "300,000,000 individual samples in a small amount of time..."
   ]
  },
  {
   "cell_type": "code",
   "execution_count": 6,
   "metadata": {
    "ExecuteTime": {
     "end_time": "2023-08-17T19:39:50.290155Z",
     "start_time": "2023-08-17T19:39:50.283583Z"
    }
   },
   "outputs": [
    {
     "data": {
      "text/plain": "0.0027818679809570312"
     },
     "execution_count": 6,
     "metadata": {},
     "output_type": "execute_result"
    }
   ],
   "source": [
    "start = time.time()\n",
    "elementwise_sum = input_21+input_22+input_23\n",
    "end = time.time()\n",
    "(end - start)"
   ]
  },
  {
   "cell_type": "markdown",
   "metadata": {},
   "source": [
    "Math on samples pretty fast"
   ]
  },
  {
   "cell_type": "markdown",
   "metadata": {},
   "source": [
    "METALOG DISTRIBUTIONS - full functionality of RMetalog"
   ]
  },
  {
   "cell_type": "code",
   "execution_count": 7,
   "metadata": {
    "ExecuteTime": {
     "end_time": "2023-08-17T19:39:50.716926Z",
     "start_time": "2023-08-17T19:39:50.289716Z"
    }
   },
   "outputs": [
    {
     "name": "stdout",
     "output_type": "stream",
     "text": [
      "['3' '3' '3' ... '32' '32.5' '33']\n",
      "[ 3.   3.   3.  ... 32.  32.5 33. ]\n"
     ]
    },
    {
     "ename": "AttributeError",
     "evalue": "'DataFrame' object has no attribute 'append'",
     "output_type": "error",
     "traceback": [
      "\u001B[0;31m---------------------------------------------------------------------------\u001B[0m",
      "\u001B[0;31mAttributeError\u001B[0m                            Traceback (most recent call last)",
      "\u001B[0;32m/var/folders/_h/mkmd1jds2z5_jbwpx0jq92bm0000gq/T/ipykernel_4558/1243226964.py\u001B[0m in \u001B[0;36m?\u001B[0;34m()\u001B[0m\n\u001B[1;32m      4\u001B[0m \u001B[0mprint\u001B[0m\u001B[0;34m(\u001B[0m\u001B[0mfish_data\u001B[0m\u001B[0;34m)\u001B[0m\u001B[0;34m\u001B[0m\u001B[0;34m\u001B[0m\u001B[0m\n\u001B[1;32m      5\u001B[0m \u001B[0;34m\u001B[0m\u001B[0m\n\u001B[1;32m      6\u001B[0m \u001B[0mfish_metalog\u001B[0m \u001B[0;34m=\u001B[0m \u001B[0mpm\u001B[0m\u001B[0;34m.\u001B[0m\u001B[0mmetalog\u001B[0m\u001B[0;34m(\u001B[0m\u001B[0mx\u001B[0m\u001B[0;34m=\u001B[0m\u001B[0mfish_data\u001B[0m\u001B[0;34m,\u001B[0m \u001B[0mbounds\u001B[0m\u001B[0;34m=\u001B[0m\u001B[0;34m[\u001B[0m\u001B[0;36m0\u001B[0m\u001B[0;34m,\u001B[0m\u001B[0;36m60\u001B[0m\u001B[0;34m]\u001B[0m\u001B[0;34m,\u001B[0m \u001B[0mboundedness\u001B[0m\u001B[0;34m=\u001B[0m\u001B[0;34m'b'\u001B[0m\u001B[0;34m,\u001B[0m \u001B[0mstep_len\u001B[0m \u001B[0;34m=\u001B[0m \u001B[0;36m0.01\u001B[0m\u001B[0;34m,\u001B[0m \u001B[0mterm_limit\u001B[0m\u001B[0;34m=\u001B[0m\u001B[0;36m9\u001B[0m\u001B[0;34m)\u001B[0m\u001B[0;34m\u001B[0m\u001B[0;34m\u001B[0m\u001B[0m\n\u001B[1;32m      7\u001B[0m \u001B[0;34m\u001B[0m\u001B[0m\n\u001B[0;32m----> 8\u001B[0;31m \u001B[0mpm\u001B[0m\u001B[0;34m.\u001B[0m\u001B[0mplot\u001B[0m\u001B[0;34m(\u001B[0m\u001B[0mfish_metalog\u001B[0m\u001B[0;34m)\u001B[0m\u001B[0;34m\u001B[0m\u001B[0;34m\u001B[0m\u001B[0m\n\u001B[0m",
      "\u001B[0;32m~/Documents/INGOTS/sipmath/sipmath/pymetalog/class_method.py\u001B[0m in \u001B[0;36m?\u001B[0;34m(x)\u001B[0m\n\u001B[1;32m    205\u001B[0m         \u001B[0;34m'quantileValues'\u001B[0m\u001B[0;34m:\u001B[0m\u001B[0mx\u001B[0m\u001B[0;34m[\u001B[0m\u001B[0;34m'M'\u001B[0m\u001B[0;34m]\u001B[0m\u001B[0;34m.\u001B[0m\u001B[0miloc\u001B[0m\u001B[0;34m[\u001B[0m\u001B[0;34m:\u001B[0m\u001B[0;34m,\u001B[0m \u001B[0;34m(\u001B[0m\u001B[0mi\u001B[0m \u001B[0;34m*\u001B[0m \u001B[0;36m2\u001B[0m \u001B[0;34m-\u001B[0m \u001B[0;36m1\u001B[0m\u001B[0;34m)\u001B[0m\u001B[0;34m]\u001B[0m\u001B[0;34m,\u001B[0m\u001B[0;34m\u001B[0m\u001B[0;34m\u001B[0m\u001B[0m\n\u001B[1;32m    206\u001B[0m         \u001B[0;34m'cumValue'\u001B[0m\u001B[0;34m:\u001B[0m\u001B[0mx\u001B[0m\u001B[0;34m[\u001B[0m\u001B[0;34m'M'\u001B[0m\u001B[0;34m]\u001B[0m\u001B[0;34m[\u001B[0m\u001B[0;34m'y'\u001B[0m\u001B[0;34m]\u001B[0m\u001B[0;34m\u001B[0m\u001B[0;34m\u001B[0m\u001B[0m\n\u001B[1;32m    207\u001B[0m       })\n\u001B[1;32m    208\u001B[0m \u001B[0;34m\u001B[0m\u001B[0m\n\u001B[0;32m--> 209\u001B[0;31m       \u001B[0mInitalResults\u001B[0m \u001B[0;34m=\u001B[0m \u001B[0mInitalResults\u001B[0m\u001B[0;34m.\u001B[0m\u001B[0mappend\u001B[0m\u001B[0;34m(\u001B[0m\u001B[0mpd\u001B[0m\u001B[0;34m.\u001B[0m\u001B[0mDataFrame\u001B[0m\u001B[0;34m(\u001B[0m\u001B[0mdata\u001B[0m\u001B[0;34m=\u001B[0m\u001B[0mTempResults\u001B[0m\u001B[0;34m)\u001B[0m\u001B[0;34m,\u001B[0m \u001B[0mignore_index\u001B[0m\u001B[0;34m=\u001B[0m\u001B[0;32mTrue\u001B[0m\u001B[0;34m)\u001B[0m\u001B[0;34m\u001B[0m\u001B[0;34m\u001B[0m\u001B[0m\n\u001B[0m\u001B[1;32m    210\u001B[0m \u001B[0;34m\u001B[0m\u001B[0m\n\u001B[1;32m    211\u001B[0m \u001B[0;34m\u001B[0m\u001B[0m\n\u001B[1;32m    212\u001B[0m   \u001B[0;31m# PDF plot\u001B[0m\u001B[0;34m\u001B[0m\u001B[0;34m\u001B[0m\u001B[0m\n",
      "\u001B[0;32m~/Documents/ConSec/sciborg-ad/src/python/sciborg-api/venv-ide/lib/python3.11/site-packages/pandas/core/generic.py\u001B[0m in \u001B[0;36m?\u001B[0;34m(self, name)\u001B[0m\n\u001B[1;32m   5985\u001B[0m             \u001B[0;32mand\u001B[0m \u001B[0mname\u001B[0m \u001B[0;32mnot\u001B[0m \u001B[0;32min\u001B[0m \u001B[0mself\u001B[0m\u001B[0;34m.\u001B[0m\u001B[0m_accessors\u001B[0m\u001B[0;34m\u001B[0m\u001B[0;34m\u001B[0m\u001B[0m\n\u001B[1;32m   5986\u001B[0m             \u001B[0;32mand\u001B[0m \u001B[0mself\u001B[0m\u001B[0;34m.\u001B[0m\u001B[0m_info_axis\u001B[0m\u001B[0;34m.\u001B[0m\u001B[0m_can_hold_identifiers_and_holds_name\u001B[0m\u001B[0;34m(\u001B[0m\u001B[0mname\u001B[0m\u001B[0;34m)\u001B[0m\u001B[0;34m\u001B[0m\u001B[0;34m\u001B[0m\u001B[0m\n\u001B[1;32m   5987\u001B[0m         ):\n\u001B[1;32m   5988\u001B[0m             \u001B[0;32mreturn\u001B[0m \u001B[0mself\u001B[0m\u001B[0;34m[\u001B[0m\u001B[0mname\u001B[0m\u001B[0;34m]\u001B[0m\u001B[0;34m\u001B[0m\u001B[0;34m\u001B[0m\u001B[0m\n\u001B[0;32m-> 5989\u001B[0;31m         \u001B[0;32mreturn\u001B[0m \u001B[0mobject\u001B[0m\u001B[0;34m.\u001B[0m\u001B[0m__getattribute__\u001B[0m\u001B[0;34m(\u001B[0m\u001B[0mself\u001B[0m\u001B[0;34m,\u001B[0m \u001B[0mname\u001B[0m\u001B[0;34m)\u001B[0m\u001B[0;34m\u001B[0m\u001B[0;34m\u001B[0m\u001B[0m\n\u001B[0m",
      "\u001B[0;31mAttributeError\u001B[0m: 'DataFrame' object has no attribute 'append'"
     ]
    }
   ],
   "source": [
    "fd = np.loadtxt('sipmath/pymetalog/fishout.csv', delimiter=',', skiprows=1, dtype='str')[:,1]\n",
    "print(fd)\n",
    "fish_data = fd.astype(np.float64)\n",
    "print(fish_data)\n",
    "\n",
    "fish_metalog = pm.metalog(x=fish_data, bounds=[0,60], boundedness='b', step_len = 0.01, term_limit=9)\n",
    "\n",
    "pm.plot(fish_metalog)"
   ]
  },
  {
   "cell_type": "code",
   "execution_count": null,
   "metadata": {
    "ExecuteTime": {
     "start_time": "2023-08-17T19:39:50.716673Z"
    }
   },
   "outputs": [],
   "source": [
    "# quantile functions\n",
    "pm.qmetalog(fish_metalog, y =[0.25,0.5,0.75], term = 9)"
   ]
  },
  {
   "cell_type": "code",
   "execution_count": null,
   "metadata": {
    "ExecuteTime": {
     "end_time": "2023-08-17T19:39:50.743068Z",
     "start_time": "2023-08-17T19:39:50.721651Z"
    }
   },
   "outputs": [],
   "source": [
    "# percentile functions\n",
    "pm.pmetalog(fish_metalog, q = [3, 10, 25], term = 9)"
   ]
  },
  {
   "cell_type": "code",
   "execution_count": null,
   "metadata": {
    "ExecuteTime": {
     "start_time": "2023-08-17T19:39:50.723219Z"
    }
   },
   "outputs": [],
   "source": [
    "# density functions\n",
    "pm.dmetalog(fish_metalog, q = [3, 10, 25], term = 9)"
   ]
  },
  {
   "cell_type": "markdown",
   "metadata": {},
   "source": [
    "Metalogs can be SIP distributions..."
   ]
  },
  {
   "cell_type": "code",
   "execution_count": null,
   "metadata": {
    "ExecuteTime": {
     "start_time": "2023-08-17T19:39:50.724626Z"
    }
   },
   "outputs": [],
   "source": [
    "model3 = sm.sipmodel(100000, name='test_for_sam')\n",
    "\n",
    "fish_sip = model3.sipinput(distribution='metalog', metalog=fish_metalog, term=9)\n",
    "\n",
    "model3.sample()\n",
    "\n",
    "plt.hist(fish_sip, 100)\n",
    "plt.show()"
   ]
  },
  {
   "cell_type": "markdown",
   "metadata": {},
   "source": [
    "Arithmetic can be performed on these sips just like any other..."
   ]
  },
  {
   "cell_type": "code",
   "execution_count": null,
   "metadata": {
    "ExecuteTime": {
     "start_time": "2023-08-17T19:39:50.726087Z"
    }
   },
   "outputs": [],
   "source": [
    "normal_sip = model3.sipinput(distribution='normal')\n",
    "model3.sample()\n",
    "\n",
    "plt.hist(normal_sip+fish_sip,100)\n",
    "plt.show()"
   ]
  },
  {
   "cell_type": "code",
   "execution_count": null,
   "metadata": {
    "ExecuteTime": {
     "start_time": "2023-08-17T19:39:50.726789Z"
    }
   },
   "outputs": [],
   "source": [
    "model3.to_xml('sam_test.xml')"
   ]
  },
  {
   "cell_type": "code",
   "execution_count": null,
   "metadata": {
    "ExecuteTime": {
     "start_time": "2023-08-17T19:39:50.727538Z"
    }
   },
   "outputs": [],
   "source": [
    "#not yet working - xml to python translation\n",
    "#model4 = sm.from_xml('path')"
   ]
  }
 ],
 "metadata": {
  "kernelspec": {
   "display_name": "Python 3",
   "language": "python",
   "name": "python3"
  },
  "language_info": {
   "codemirror_mode": {
    "name": "ipython",
    "version": 3
   },
   "file_extension": ".py",
   "mimetype": "text/x-python",
   "name": "python",
   "nbconvert_exporter": "python",
   "pygments_lexer": "ipython3",
   "version": "3.6.8"
  }
 },
 "nbformat": 4,
 "nbformat_minor": 2
}
